{
 "cells": [
  {
   "cell_type": "code",
   "execution_count": 43,
   "metadata": {},
   "outputs": [
    {
     "name": "stdout",
     "output_type": "stream",
     "text": [
      "The jupyterstan extension is already loaded. To reload it, use:\n",
      "  %reload_ext jupyterstan\n"
     ]
    }
   ],
   "source": [
    "import pystan\n",
    "import numpy as np\n",
    "\n",
    "%load_ext jupyterstan\n",
    "%matplotlib inline"
   ]
  },
  {
   "cell_type": "code",
   "execution_count": 4,
   "metadata": {},
   "outputs": [
    {
     "name": "stderr",
     "output_type": "stream",
     "text": [
      "INFO:pystan:COMPILING THE C++ CODE FOR MODEL linear_model_9af967fce5aa7010fb0126053cc76193 NOW.\n"
     ]
    },
    {
     "name": "stdout",
     "output_type": "stream",
     "text": [
      "Creating pystan model & assigning it to variable name \"linear_model\".\n",
      "Stan options:\n",
      " {'model_name': 'linear_model', 'include_paths': None, 'boost_lib': None, 'eigen_lib': None, 'verbose': False, 'obfuscate_model_name': True}\n",
      "StanModel now available as variable \"linear_model\"!\n",
      "Compilation took a minute.\n"
     ]
    }
   ],
   "source": [
    "%%stan linear_model\n",
    "\n",
    "data {\n",
    "  int<lower=1> N; //sample size\n",
    "  int<lower=1> K;\n",
    "  matrix[N, K] X;\n",
    "  vector[N] y;\n",
    "}\n",
    "\n",
    "transformed data {\n",
    "  \n",
    "}\n",
    "\n",
    "parameters {\n",
    "  vector[K] beta;\n",
    "  real<lower=0> sigma;\n",
    "}\n",
    "\n",
    "transformed parameters {\n",
    "  \n",
    "}\n",
    "\n",
    "model {\n",
    "  vector[N] mu;\n",
    "  mu = X * beta;\n",
    "  \n",
    "  // priors\n",
    "  beta ~ normal(0, 10);\n",
    "  sigma ~ cauchy(0, 5);\n",
    "  \n",
    "  // likelihood\n",
    "  y ~ normal(mu, sigma);\n",
    "}\n",
    "\n",
    "generated quantities{\n",
    "  \n",
    "}"
   ]
  },
  {
   "cell_type": "code",
   "execution_count": 34,
   "metadata": {},
   "outputs": [],
   "source": [
    "N = 500\n",
    "alpha = 1\n",
    "beta = 2\n",
    "X= np.random.normal(0, 1, N )\n",
    "prob = 1/(1 + np.exp(-(alpha + beta*X)))\n",
    "y = np.random.binomial(1, prob)\n",
    "\n",
    "N_train = int(N * 0.8)\n",
    "N_test = int(N * 0.2)\n",
    "index = np.random.permutation(range(N))\n",
    "x_train = X[index[:N_train]]\n",
    "y_train = y[index[:N_train]]\n",
    "x_test = X[index[N_train:]]\n",
    "y_test = y[index[N_train:]]"
   ]
  },
  {
   "cell_type": "code",
   "execution_count": 36,
   "metadata": {},
   "outputs": [
    {
     "name": "stdout",
     "output_type": "stream",
     "text": [
      "Creating pystan model & assigning it to variable name \"bi_model\".\n",
      "Stan options:\n",
      " {'model_name': 'bi_model', 'include_paths': None, 'boost_lib': None, 'eigen_lib': None, 'verbose': False, 'obfuscate_model_name': True}\n"
     ]
    },
    {
     "name": "stderr",
     "output_type": "stream",
     "text": [
      "INFO:pystan:COMPILING THE C++ CODE FOR MODEL bi_model_a24aa4873c01330810e4b48c2229c29c NOW.\n"
     ]
    },
    {
     "name": "stdout",
     "output_type": "stream",
     "text": [
      "StanModel now available as variable \"bi_model\"!\n",
      "Compilation took a minute.\n"
     ]
    }
   ],
   "source": [
    "%%stan bi_model\n",
    "data{\n",
    "  int<lower=1> N_train;\n",
    "  vector[N_train] x_train;\n",
    "  int<lower=0, upper=1> y_train[N_train];\n",
    "  int<lower=1> N_test;\n",
    "  vector[N_test] x_test;\n",
    "}\n",
    "\n",
    "parameters {\n",
    "  real alpha;\n",
    "  real beta;\n",
    "}\n",
    "\n",
    "model{\n",
    "  y_train ~ bernoulli_logit(alpha + beta*x_train);\n",
    "  alpha ~ normal(5, 10);\n",
    "  beta ~ normal(5, 10);\n",
    "}\n",
    "\n",
    "generated quantities{\n",
    "  vector[N_test] y_test;\n",
    "  for(i in 1:N_test){\n",
    "    y_test[i] = bernoulli_rng(inv_logit(alpha + beta*x_test[i]));\n",
    "  }\n",
    "}"
   ]
  },
  {
   "cell_type": "code",
   "execution_count": 24,
   "metadata": {},
   "outputs": [],
   "source": [
    "# it requires re-estimating the entire model every time new predictions need to be made."
   ]
  },
  {
   "cell_type": "code",
   "execution_count": 38,
   "metadata": {},
   "outputs": [],
   "source": [
    "data = {'N_train':N_train,\n",
    "                 'x_train':x_train,\n",
    "                 'y_train':y_train,\n",
    "                 'N_test':N_test,\n",
    "                 'x_test':x_test}"
   ]
  },
  {
   "cell_type": "code",
   "execution_count": 39,
   "metadata": {},
   "outputs": [
    {
     "data": {
      "text/plain": [
       "{'N_train': 400,\n",
       " 'x_train': array([-0.77286298, -0.50772208,  0.47287398,  0.38024054, -0.55014251,\n",
       "         0.57301574,  0.77054701, -0.24493858, -0.51031738,  0.45646176,\n",
       "         0.06456978, -1.23488622, -0.66723612, -1.42866731,  0.57918319,\n",
       "        -0.59684609,  0.9548338 , -0.51053823, -0.94593497, -0.01626732,\n",
       "         0.72527068, -0.78770746,  0.90123382, -1.43568424,  0.30743498,\n",
       "        -0.79322487, -0.73362917, -0.27245822,  0.88910056, -0.2468262 ,\n",
       "        -0.66310629, -0.23270569,  0.61260741,  0.63174947, -0.00549809,\n",
       "        -0.21906582,  0.61706574,  0.25213959, -1.22993961, -1.00529489,\n",
       "        -1.1965465 , -1.37853534, -0.92057673,  0.41771578, -1.25906748,\n",
       "        -0.9675091 ,  3.07247676, -0.51946085,  0.2808789 , -1.33047554,\n",
       "         0.27472616,  1.83888843,  0.73378284, -1.32365114,  1.33870932,\n",
       "         0.69284922, -0.94978372,  1.54983297,  0.44706657,  1.71986651,\n",
       "        -2.19481564,  0.43728579,  0.78035524, -0.93066193, -0.10509793,\n",
       "         0.69157009,  0.17410427, -0.86887491, -0.95013244,  0.28079768,\n",
       "         0.96382032, -0.19277323,  0.46771749,  1.494104  , -0.84565569,\n",
       "        -2.01199202, -1.92481617,  0.43374802, -0.29877674,  0.32699096,\n",
       "        -0.83490026, -0.06968367, -1.16978946, -1.16847451,  0.83375643,\n",
       "        -0.36171261,  0.03637875, -0.95585856, -0.22091478,  1.71785934,\n",
       "        -0.45794166,  0.90325995, -0.24378128, -1.63202519,  1.88733105,\n",
       "         0.34186481,  1.2177251 ,  0.83151923,  1.77478033,  0.61457398,\n",
       "        -0.30379352, -0.23430789,  0.62818968,  0.19669603, -0.06551709,\n",
       "         0.83799006,  0.3220033 , -1.43441557, -2.41781518,  0.79636784,\n",
       "        -0.06261271,  0.94618519, -1.89201866,  0.67411556,  1.4591619 ,\n",
       "         0.47456993, -1.5189497 ,  0.3575465 ,  2.46362919,  0.42120532,\n",
       "        -1.95176784,  1.36136373,  0.67545017, -0.4432812 , -0.20908722,\n",
       "         0.40293398,  0.48590984,  1.71226966,  0.41567934, -1.51087637,\n",
       "         0.86729877,  1.66760723,  0.12066742, -0.86488127,  0.48991144,\n",
       "         1.60719502, -1.82008311,  0.14812432, -1.54340045, -0.64490088,\n",
       "        -2.55847075,  0.82548574, -0.90952728, -1.49872485, -0.686585  ,\n",
       "        -0.21806838, -1.44954067,  0.16526641, -0.85172827, -0.14756733,\n",
       "         1.17697253,  1.2328862 ,  1.46641993,  1.89188915,  1.62571891,\n",
       "         0.12903546,  1.03565346, -1.87284009,  1.17939066,  0.73380253,\n",
       "        -0.80656402, -0.3040833 , -0.94960611,  0.63328961, -0.36163353,\n",
       "         1.05226794,  0.38072359, -1.09490817,  0.76103433,  1.01625893,\n",
       "        -0.34291454,  0.32599574,  0.78878176,  1.40277376, -0.07867614,\n",
       "        -0.57277016,  0.87959579, -0.12384835,  0.98997388, -0.30563573,\n",
       "        -2.62077551,  1.40490691,  1.4808101 ,  0.52426924,  0.56087671,\n",
       "         1.33664925,  0.01852314,  0.52302855, -0.83356949,  1.05363821,\n",
       "        -1.30018733,  0.13948919,  0.20049844,  0.34026687,  1.58717845,\n",
       "         0.12052761,  1.61509295, -0.02714229,  0.72350024,  0.05373366,\n",
       "         0.60521378, -1.56890003,  0.28979994,  2.18981254, -1.6979422 ,\n",
       "        -1.11670307,  0.1215848 ,  1.10067204,  1.48402044,  1.41092435,\n",
       "         1.88968708,  1.23981372,  1.3673529 ,  1.50783878, -2.90807921,\n",
       "         1.42861448, -1.13660735,  0.08566325,  0.19777508,  0.77671357,\n",
       "         0.97045506, -0.04597364, -0.86711176,  0.63685752,  0.07904108,\n",
       "         0.23233462,  0.78165118,  0.33912819,  1.14400368, -0.86701402,\n",
       "         0.38698323, -1.15138809, -0.52583171, -0.75075371,  0.05698726,\n",
       "         0.18440798,  1.69976047, -1.33494964, -0.38807517,  0.35406681,\n",
       "        -1.65968702,  1.18243053, -1.79707775,  1.4291965 ,  2.55327445,\n",
       "        -0.69469504,  0.23903388, -0.64855029, -0.23616493, -0.29235512,\n",
       "         0.89896162, -1.53131103,  1.40121805,  0.20731623,  0.75880225,\n",
       "        -0.73319024, -0.65437469,  0.46960085, -0.53877039,  1.06136237,\n",
       "        -1.19203609,  0.18823288,  1.88544233, -0.29775539, -0.34215152,\n",
       "        -0.23155538, -1.94809443, -0.70907706,  0.91679377, -0.90642581,\n",
       "         0.45124026,  2.07415665,  1.06817481,  1.29305397, -1.87077572,\n",
       "         0.21871162,  0.55174765,  0.95502277,  1.3660092 ,  0.01820584,\n",
       "         0.62034966,  0.77313892,  1.07294132, -1.22500924,  0.40235542,\n",
       "         1.0179274 ,  0.54984199,  2.71544438, -0.02783617, -0.85301942,\n",
       "         0.1245669 ,  0.00447399,  0.61342447,  0.17656867, -0.54675261,\n",
       "        -1.23235448,  0.37197785,  0.68346184, -0.51896187, -1.09396084,\n",
       "         1.79460529, -1.1101251 ,  0.28770461, -1.31445343, -1.03397291,\n",
       "         1.73176994,  0.10985987, -1.0405103 , -0.00362602, -0.40133522,\n",
       "        -1.5665351 , -0.98201602, -0.58425627, -0.35721102,  0.01248511,\n",
       "         0.47714378, -0.70904049, -0.91280754, -1.27326483,  0.70749181,\n",
       "        -1.86204068,  0.05133531, -0.45696548, -0.80560945, -0.02903762,\n",
       "         0.23834567,  1.75406399,  1.6352057 , -0.11767069,  1.53964825,\n",
       "         0.07013956, -1.20015123,  1.22777188, -0.13336591, -0.1109676 ,\n",
       "        -0.86791793,  0.17162964,  1.44183905, -0.52529435, -0.32617978,\n",
       "         0.46972985, -1.85838895, -0.04035694,  0.71290636,  1.32491182,\n",
       "         0.63884905,  0.35292639, -2.13298242, -0.23789332,  1.33210724,\n",
       "        -0.23298025, -0.65036151,  0.97007909,  0.13151231,  1.70723037,\n",
       "         0.4074285 , -1.05141606, -1.5921234 ,  1.03875984,  1.55238613,\n",
       "        -0.84569494, -0.30835931, -0.00936862, -1.37780386, -1.02762151,\n",
       "        -0.79708608,  0.87487417, -0.55097206, -0.89650967, -2.51984999,\n",
       "         0.72365026,  0.93654274, -1.16515842,  0.91938145, -0.25863706,\n",
       "        -0.15711751, -2.06239986, -0.32461797, -2.27404966, -0.49568745,\n",
       "         0.46862866, -1.42502765, -0.04054599,  0.52929249,  0.74963682,\n",
       "         0.44110758,  1.27467154,  1.19598287, -0.45832237, -1.16248402,\n",
       "        -1.65292158,  0.5064945 , -0.70607473,  0.72447835,  0.76665152,\n",
       "         0.99171937,  0.73986784,  0.24742648, -1.54535387,  0.70249161]),\n",
       " 'y_train': array([1, 0, 1, 1, 0, 1, 0, 1, 1, 1, 1, 0, 0, 0, 1, 0, 1, 1, 0, 1, 1, 0,\n",
       "        1, 0, 1, 1, 1, 0, 1, 1, 1, 1, 1, 1, 1, 0, 1, 1, 1, 0, 1, 0, 0, 1,\n",
       "        0, 1, 1, 0, 1, 0, 1, 1, 1, 0, 1, 1, 0, 1, 1, 1, 0, 1, 1, 0, 0, 0,\n",
       "        1, 0, 0, 0, 1, 0, 1, 1, 0, 0, 0, 1, 1, 1, 0, 1, 1, 1, 1, 0, 1, 0,\n",
       "        1, 1, 1, 0, 0, 0, 1, 1, 1, 1, 1, 1, 1, 0, 0, 1, 1, 1, 1, 0, 0, 0,\n",
       "        0, 1, 0, 1, 1, 1, 0, 1, 1, 0, 0, 1, 1, 0, 1, 1, 1, 1, 1, 0, 1, 1,\n",
       "        1, 0, 1, 1, 0, 0, 0, 0, 0, 1, 1, 0, 0, 1, 0, 1, 0, 1, 1, 1, 1, 1,\n",
       "        1, 1, 1, 0, 1, 1, 0, 1, 0, 1, 1, 1, 1, 0, 1, 1, 0, 1, 1, 1, 1, 0,\n",
       "        1, 1, 1, 1, 0, 1, 1, 1, 1, 1, 1, 1, 1, 1, 0, 1, 1, 1, 1, 0, 1, 1,\n",
       "        1, 1, 1, 0, 1, 1, 0, 0, 1, 1, 1, 1, 1, 1, 1, 1, 0, 1, 0, 1, 1, 1,\n",
       "        1, 1, 0, 1, 1, 1, 1, 1, 1, 1, 0, 0, 1, 0, 1, 1, 1, 0, 1, 1, 0, 1,\n",
       "        0, 1, 1, 0, 1, 0, 1, 1, 1, 0, 1, 1, 1, 0, 1, 1, 0, 1, 0, 1, 1, 1,\n",
       "        0, 1, 0, 1, 1, 0, 1, 1, 1, 1, 0, 0, 1, 0, 1, 1, 1, 1, 1, 0, 1, 1,\n",
       "        1, 1, 0, 0, 1, 1, 1, 1, 0, 1, 1, 1, 1, 0, 1, 0, 1, 0, 1, 1, 1, 0,\n",
       "        0, 1, 0, 0, 0, 1, 1, 0, 1, 1, 0, 1, 0, 1, 1, 0, 0, 1, 1, 1, 1, 1,\n",
       "        1, 1, 1, 1, 1, 1, 1, 1, 1, 1, 0, 0, 1, 1, 1, 1, 1, 0, 1, 1, 1, 0,\n",
       "        0, 1, 1, 1, 0, 0, 1, 1, 0, 0, 1, 0, 0, 1, 0, 0, 0, 0, 1, 1, 0, 1,\n",
       "        0, 0, 0, 1, 0, 1, 1, 0, 1, 1, 1, 1, 1, 1, 0, 0, 0, 1, 0, 1, 1, 1,\n",
       "        1, 1, 0, 1]),\n",
       " 'N_test': 100,\n",
       " 'x_test': array([ 0.19694304, -1.43488611,  1.22502352, -0.0707413 , -0.86745882,\n",
       "        -0.21776166, -0.24580497, -0.86720188, -0.3448675 , -1.70880286,\n",
       "         1.0154851 , -0.98119375,  0.26189793,  0.4398305 ,  0.55257753,\n",
       "        -0.55232022,  0.03728307, -0.54715535, -1.34952305,  0.63561128,\n",
       "         0.40510516,  0.08435725,  0.53118905, -1.43028259, -0.41675953,\n",
       "         0.33408156,  0.04517128, -0.29177181,  0.27823627, -0.40861188,\n",
       "        -0.28862181,  0.00795213,  0.63573852,  0.34200445,  0.06422456,\n",
       "         0.31240793, -0.18404039,  0.03740194,  0.07478769, -0.58093248,\n",
       "         2.38250726,  0.48590875,  1.83031006,  0.31292333, -0.88433129,\n",
       "         0.72229706,  0.11213516, -0.15558387, -2.96828018,  0.04408708,\n",
       "         0.15654669,  1.31344193, -0.88990834, -0.03362039, -2.97155238,\n",
       "        -0.41978318, -0.48300968,  2.06277124,  1.13228192, -1.21263509,\n",
       "        -1.0556878 ,  1.38817564,  1.18546504,  0.13639965,  0.45559705,\n",
       "        -0.37916472,  1.28663418, -0.58728653,  0.22704064, -1.13465589,\n",
       "         0.10807952,  1.44086409,  0.44340688,  0.67974351,  1.08666186,\n",
       "         0.08275819,  1.2370541 ,  0.7054439 , -1.18126234, -1.62599044,\n",
       "        -0.52866088,  0.45489569,  2.183875  , -0.62521081,  1.12581996,\n",
       "        -1.68004454,  0.57988136,  0.35634415,  0.82499171, -0.20990854,\n",
       "         0.75542799, -2.54538605, -1.18736067, -0.68762201, -0.49953106,\n",
       "         0.5618933 ,  0.28009797, -0.19845248, -1.1105341 , -0.70365331])}"
      ]
     },
     "execution_count": 39,
     "metadata": {},
     "output_type": "execute_result"
    }
   ],
   "source": [
    "data"
   ]
  },
  {
   "cell_type": "code",
   "execution_count": 40,
   "metadata": {},
   "outputs": [
    {
     "name": "stderr",
     "output_type": "stream",
     "text": [
      "WARNING:pystan:n_eff / iter below 0.001 indicates that the effective sample size has likely been overestimated\n"
     ]
    }
   ],
   "source": [
    "fit = bi_model.sampling(data=data, chains=3, iter=1000)"
   ]
  },
  {
   "cell_type": "code",
   "execution_count": 44,
   "metadata": {},
   "outputs": [
    {
     "name": "stderr",
     "output_type": "stream",
     "text": [
      "WARNING:pystan:Deprecation warning. In future, use ArviZ library (`pip install arviz`)\n"
     ]
    },
    {
     "data": {
      "image/png": "[encoded data removed]",
      "text/plain": [
       "<Figure size 432x288 with 6 Axes>"
      ]
     },
     "execution_count": 44,
     "metadata": {},
     "output_type": "execute_result"
    },
    {
     "data": {
      "image/png": "[encoded data removed]",
      "text/plain": [
       "<Figure size 432x288 with 6 Axes>"
      ]
     },
     "metadata": {
      "needs_background": "light"
     },
     "output_type": "display_data"
    }
   ],
   "source": [
    "fit.plot()"
   ]
  },
  {
   "cell_type": "code",
   "execution_count": 46,
   "metadata": {},
   "outputs": [],
   "source": [
    "ext_fit = fit.extract()"
   ]
  },
  {
   "cell_type": "code",
   "execution_count": 56,
   "metadata": {},
   "outputs": [],
   "source": [
    "result = np.median(ext_fit['y_test'],axis=0)"
   ]
  },
  {
   "cell_type": "code",
   "execution_count": 58,
   "metadata": {},
   "outputs": [
    {
     "data": {
      "text/plain": [
       "array([1., 0., 1., 1., 0., 1., 1., 0., 1., 0., 1., 0., 1., 1., 1., 0., 1.,\n",
       "       0., 0., 1., 1., 1., 1., 0., 1., 1., 1., 1., 1., 1., 1., 1., 1., 1.,\n",
       "       1., 1., 1., 1., 1., 0., 1., 1., 1., 1., 0., 1., 1., 1., 0., 1., 1.,\n",
       "       1., 0., 1., 0., 1., 1., 1., 1., 0., 0., 1., 1., 1., 1., 1., 1., 0.,\n",
       "       1., 0., 1., 1., 1., 1., 1., 1., 1., 1., 0., 0., 0., 1., 1., 0., 1.,\n",
       "       0., 1., 1., 1., 1., 1., 0., 0., 0., 1., 1., 1., 1., 0., 0.])"
      ]
     },
     "execution_count": 58,
     "metadata": {},
     "output_type": "execute_result"
    }
   ],
   "source": [
    "result"
   ]
  },
  {
   "cell_type": "code",
   "execution_count": 65,
   "metadata": {},
   "outputs": [
    {
     "data": {
      "text/plain": [
       "0.81"
      ]
     },
     "execution_count": 65,
     "metadata": {},
     "output_type": "execute_result"
    }
   ],
   "source": [
    "np.mean(result == y_test)"
   ]
  },
  {
   "cell_type": "markdown",
   "metadata": {},
   "source": [
    "## 重新用python写一个程序用于预测"
   ]
  },
  {
   "cell_type": "code",
   "execution_count": 66,
   "metadata": {},
   "outputs": [
    {
     "data": {
      "text/plain": [
       "OrderedDict([('alpha',\n",
       "              array([1.18422863, 1.02715459, 1.10684889, ..., 0.97239424, 0.92746486,\n",
       "                     1.0649697 ])),\n",
       "             ('beta',\n",
       "              array([2.38458429, 2.40599535, 2.22873863, ..., 2.23246973, 1.98553557,\n",
       "                     2.03459051])),\n",
       "             ('y_test', array([[1., 0., 1., ..., 1., 0., 1.],\n",
       "                     [1., 0., 1., ..., 0., 0., 0.],\n",
       "                     [1., 0., 1., ..., 0., 0., 1.],\n",
       "                     ...,\n",
       "                     [1., 0., 0., ..., 1., 0., 1.],\n",
       "                     [1., 0., 1., ..., 1., 1., 0.],\n",
       "                     [1., 0., 1., ..., 1., 1., 1.]])),\n",
       "             ('lp__',\n",
       "              array([-148.98129843, -149.59101413, -148.85941079, ..., -149.42649503,\n",
       "                     -150.05023074, -149.38555239]))])"
      ]
     },
     "execution_count": 66,
     "metadata": {},
     "output_type": "execute_result"
    }
   ],
   "source": [
    "ext_fit"
   ]
  },
  {
   "cell_type": "code",
   "execution_count": 82,
   "metadata": {},
   "outputs": [
    {
     "data": {
      "text/plain": [
       "0.76"
      ]
     },
     "execution_count": 82,
     "metadata": {},
     "output_type": "execute_result"
    }
   ],
   "source": [
    "alpha_post = ext_fit['alpha']\n",
    "beta_post = ext_fit['beta']\n",
    "\n",
    "def gen_quant_r(x):\n",
    "    lin_comb = np.random.choice(alpha_post, size=len(x)) + x*np.random.choice(beta_post, size=len(x))\n",
    "    prob = 1/(1 + np.exp(-lin_comb))\n",
    "    out = np.random.binomial(1, prob)\n",
    "    return out\n",
    "\n",
    "np.random.seed(2)\n",
    "y_pred_r = gen_quant_r(x_test)\n",
    "np.mean(y_pred_r == y_test)"
   ]
  },
  {
   "cell_type": "code",
   "execution_count": 70,
   "metadata": {},
   "outputs": [
    {
     "data": {
      "text/plain": [
       "(1500,)"
      ]
     },
     "execution_count": 70,
     "metadata": {},
     "output_type": "execute_result"
    }
   ],
   "source": [
    "np.shape(alpha_post)"
   ]
  },
  {
   "cell_type": "code",
   "execution_count": 76,
   "metadata": {},
   "outputs": [
    {
     "data": {
      "text/plain": [
       "1500"
      ]
     },
     "execution_count": 76,
     "metadata": {},
     "output_type": "execute_result"
    }
   ],
   "source": [
    "len(alpha_post)"
   ]
  },
  {
   "cell_type": "markdown",
   "metadata": {},
   "source": [
    "## Predict with stan"
   ]
  },
  {
   "cell_type": "code",
   "execution_count": 83,
   "metadata": {},
   "outputs": [
    {
     "name": "stderr",
     "output_type": "stream",
     "text": [
      "INFO:pystan:COMPILING THE C++ CODE FOR MODEL predict_model_3099e5c703fe2ab14c070a056de97abc NOW.\n"
     ]
    },
    {
     "name": "stdout",
     "output_type": "stream",
     "text": [
      "Creating pystan model & assigning it to variable name \"predict_model\".\n",
      "Stan options:\n",
      " {'model_name': 'predict_model', 'include_paths': None, 'boost_lib': None, 'eigen_lib': None, 'verbose': False, 'obfuscate_model_name': True}\n",
      "StanModel now available as variable \"predict_model\"!\n",
      "Compilation took a minute.\n"
     ]
    }
   ],
   "source": [
    "%%stan predict_model\n",
    "data {\n",
    "  int N;\n",
    "  int N_samples;\n",
    "  vector[N] x_test;\n",
    "  vector[N_samples] alpha;\n",
    "  vector[N_samples] beta;\n",
    "}\n",
    "\n",
    "parameters {}\n",
    "\n",
    "model {}\n",
    "\n",
    "generated quantities {\n",
    "  matrix[N_samples, N] y_test;\n",
    "  for(n in 1:N) {\n",
    "    for(i in 1:N_samples) {\n",
    "      y_test[i, n] = bernoulli_rng(inv_logit(alpha[i] + beta[i]*x_test[n]));\n",
    "    }\n",
    "  }\n",
    "}"
   ]
  },
  {
   "cell_type": "code",
   "execution_count": 93,
   "metadata": {},
   "outputs": [],
   "source": [
    "data_2 = {'N':N_test, 'N_samples':len(alpha_post),\n",
    "          'x_test':x_test,\n",
    "         'alpha':alpha_post, 'beta':beta_post}"
   ]
  },
  {
   "cell_type": "code",
   "execution_count": 94,
   "metadata": {},
   "outputs": [
    {
     "name": "stderr",
     "output_type": "stream",
     "text": [
      "WARNING:pystan:`warmup=0` forced with `algorithm=\"Fixed_param\"`.\n"
     ]
    }
   ],
   "source": [
    "pred = predict_model.sampling(data=data_2, chains=1, iter=1000, algorithm='Fixed_param')"
   ]
  },
  {
   "cell_type": "code",
   "execution_count": 95,
   "metadata": {},
   "outputs": [],
   "source": [
    "ext_pred = pred.extract()"
   ]
  },
  {
   "cell_type": "code",
   "execution_count": 101,
   "metadata": {},
   "outputs": [],
   "source": [
    "i_idx = np.shape(ext_pred['y_test'])[1]\n",
    "j_idx = np.shape(ext_pred['y_test'])[2]\n",
    "out_mat = np.zeros((i_idx, j_idx))\n",
    "for i in range(i_idx):\n",
    "    for j in range(j_idx):\n",
    "        out_mat[i, j] = np.mean(ext_pred['y_test'][:, i, j])\n"
   ]
  },
  {
   "cell_type": "code",
   "execution_count": 102,
   "metadata": {},
   "outputs": [
    {
     "data": {
      "text/plain": [
       "array([[0.851, 0.1  , 0.98 , ..., 0.687, 0.193, 0.328],\n",
       "       [0.817, 0.09 , 0.975, ..., 0.635, 0.147, 0.37 ],\n",
       "       [0.827, 0.102, 0.981, ..., 0.639, 0.199, 0.387],\n",
       "       ...,\n",
       "       [0.833, 0.099, 0.978, ..., 0.642, 0.194, 0.361],\n",
       "       [0.799, 0.106, 0.974, ..., 0.653, 0.202, 0.379],\n",
       "       [0.792, 0.127, 0.97 , ..., 0.649, 0.22 , 0.416]])"
      ]
     },
     "execution_count": 102,
     "metadata": {},
     "output_type": "execute_result"
    }
   ],
   "source": [
    "out_mat"
   ]
  },
  {
   "cell_type": "code",
   "execution_count": 112,
   "metadata": {},
   "outputs": [
    {
     "data": {
      "text/plain": [
       "0.81"
      ]
     },
     "execution_count": 112,
     "metadata": {},
     "output_type": "execute_result"
    }
   ],
   "source": [
    "out = np.mean(out_mat, axis=0)\n",
    "out = np.where(out > 0.5, 1, 0)\n",
    "np.mean(out == y_test)"
   ]
  },
  {
   "cell_type": "code",
   "execution_count": null,
   "metadata": {},
   "outputs": [],
   "source": []
  }
 ],
 "metadata": {
  "kernelspec": {
   "display_name": "Python 3",
   "language": "python",
   "name": "python3"
  },
  "language_info": {
   "codemirror_mode": {
    "name": "ipython",
    "version": 3
   },
   "file_extension": ".py",
   "mimetype": "text/x-python",
   "name": "python",
   "nbconvert_exporter": "python",
   "pygments_lexer": "ipython3",
   "version": "3.7.3"
  }
 },
 "nbformat": 4,
 "nbformat_minor": 2
}
