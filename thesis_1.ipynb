{
 "cells": [
  {
   "cell_type": "code",
   "execution_count": 1,
   "metadata": {},
   "outputs": [],
   "source": [
    "import pystan\n",
    "import pandas as pd\n",
    "\n",
    "%load_ext jupyterstan\n",
    "%matplotlib inline"
   ]
  },
  {
   "cell_type": "markdown",
   "metadata": {},
   "source": [
    "## 数据准备"
   ]
  },
  {
   "cell_type": "markdown",
   "metadata": {},
   "source": [
    "在同一个高斯随机场中，用不同的发射信号源（发射功率，坐标值），产生感知节点的接收信号强度RSS。"
   ]
  },
  {
   "cell_type": "code",
   "execution_count": null,
   "metadata": {},
   "outputs": [],
   "source": []
  },
  {
   "cell_type": "markdown",
   "metadata": {},
   "source": [
    "## 参数估计模型"
   ]
  },
  {
   "cell_type": "code",
   "execution_count": 8,
   "metadata": {},
   "outputs": [
    {
     "name": "stderr",
     "output_type": "stream",
     "text": [
      "INFO:pystan:COMPILING THE C++ CODE FOR MODEL parameter_estimate_9a7ea51f517a8fc335c35226c3e95a34 NOW.\n"
     ]
    },
    {
     "name": "stdout",
     "output_type": "stream",
     "text": [
      "Creating pystan model & assigning it to variable name \"parameter_estimate\".\n",
      "Stan options:\n",
      " {'model_name': 'parameter_estimate', 'include_paths': None, 'boost_lib': None, 'eigen_lib': None, 'verbose': False, 'obfuscate_model_name': True}\n",
      "StanModel now available as variable \"parameter_estimate\"!\n",
      "Compilation took a minute.\n"
     ]
    }
   ],
   "source": [
    "%%stan parameter_estimate\n",
    "\n",
    "data {\n",
    "  int<lower=1> N_data; // 训练数据集大小\n",
    "  int<lower=1> N_nodes; // 感知节点个数\n",
    "  vector[N_nodes] RSS[N_data];\n",
    "  row_vector[2] sensor_location[N_nodes];\n",
    "  real trans_power[N_data];\n",
    "  row_vector[2] trans_location[N_data];\n",
    "}\n",
    "\n",
    "transformed data {\n",
    "  vector[N_nodes] distance_sensor_trans[N_data];\n",
    "  for (j in 1:N_data) {\n",
    "    for (i in 1:N_nodes){\n",
    "      distance_sensor_trans[j][i] = distance(sensor_location[i], trans_location[j]);\n",
    "    }  \n",
    "  }\n",
    "}\n",
    "\n",
    "parameters {\n",
    "  real<lower=0> sigma_epsilon; //测量误差\n",
    "  real sigma; // 空间方差\n",
    "  real fai;  // matern 协方差函数\n",
    "  real gammma; //自由空间传播损耗因子\n",
    "}\n",
    "\n",
    "transformed parameters {\n",
    "\n",
    "}\n",
    "\n",
    "model {\n",
    "  vector[N_nodes] mu[N_data];\n",
    " \n",
    "  matrix[N_nodes, N_nodes] cov;\n",
    "  \n",
    "  /* 生成一个单位矩阵 */\n",
    "  vector[N_nodes] i_vec = rep_vector(1.0, N_nodes);\n",
    "  matrix[N_nodes, N_nodes] unit_matrix = diag_matrix(i_vec);\n",
    "\n",
    "  \n",
    "  /* 先验分布 */\n",
    "  sigma_epsilon ~ inv_gamma(2, 10);\n",
    "  sigma ~ inv_gamma(2, 10);\n",
    "  fai ~ uniform(1, 100);\n",
    "  \n",
    "  for (i in 1:N_data){\n",
    "    mu[i] = trans_power[i] - 10 * gammma * log10(distance_sensor_trans[i]);\n",
    "  }\n",
    "  \n",
    "  cov = cov_exp_quad(sensor_location, sensor_location, sigma, 1/sqrt(2*fai) )+ sigma_epsilon * unit_matrix;\n",
    "  \n",
    "  RSS ~ multi_normal(mu,cov);\n",
    "}"
   ]
  },
  {
   "cell_type": "code",
   "execution_count": 2,
   "metadata": {},
   "outputs": [],
   "source": [
    "pystan.stan?"
   ]
  },
  {
   "cell_type": "code",
   "execution_count": null,
   "metadata": {},
   "outputs": [],
   "source": []
  }
 ],
 "metadata": {
  "kernelspec": {
   "display_name": "Python 3",
   "language": "python",
   "name": "python3"
  },
  "language_info": {
   "codemirror_mode": {
    "name": "ipython",
    "version": 3
   },
   "file_extension": ".py",
   "mimetype": "text/x-python",
   "name": "python",
   "nbconvert_exporter": "python",
   "pygments_lexer": "ipython3",
   "version": "3.7.3"
  }
 },
 "nbformat": 4,
 "nbformat_minor": 2
}
